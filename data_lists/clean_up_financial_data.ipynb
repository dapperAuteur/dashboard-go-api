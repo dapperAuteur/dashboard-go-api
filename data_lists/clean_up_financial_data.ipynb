{
 "cells": [
  {
   "cell_type": "code",
   "execution_count": 125,
   "metadata": {},
   "outputs": [],
   "source": [
    "import pandas as pd"
   ]
  },
  {
   "cell_type": "markdown",
   "metadata": {},
   "source": [
    "import month data"
   ]
  },
  {
   "cell_type": "code",
   "execution_count": 168,
   "metadata": {},
   "outputs": [],
   "source": [
    "mar_d = pd.read_csv(\"./month_data/mar_data.csv\")\n",
    "apr_d = pd.read_csv(\"./month_data/april_data.csv\")\n",
    "may_d = pd.read_csv(\"./month_data/may_data.csv\")\n",
    "june_d = pd.read_csv(\"./month_data/june_data.csv\")\n",
    "july_d = pd.read_csv(\"./month_data/july_data.csv\")\n",
    "aug_d = pd.read_csv(\"./month_data/august_data.csv\")"
   ]
  },
  {
   "cell_type": "markdown",
   "metadata": {},
   "source": [
    "import collection keys"
   ]
  },
  {
   "cell_type": "code",
   "execution_count": 238,
   "metadata": {},
   "outputs": [],
   "source": [
    "budgets_d = pd.read_csv(\"mongo_data/budgets_mongo.csv\")\n",
    "fin_accts_d = pd.read_csv(\"./mongo_data/fin_accts_mongo.csv\")\n",
    "vendors_d = pd.read_csv(\"./mongo_data/vendors_mongo.csv\")"
   ]
  },
  {
   "cell_type": "markdown",
   "metadata": {},
   "source": [
    "* write multiple functions to take:\n",
    "    * month data\n",
    "    * collection data\n",
    "* clean up the collection column in the month data\n",
    "    * repeat for each collection in each month\n",
    "        * budget_name == budget\n",
    "            * set _id = budget_id\n",
    "        * vendor_name == vendor\n",
    "            * set _id = vendor_id\n",
    "        * financial_institution == fin_acc\n",
    "            * set _id = fin_acc_id\n",
    "* then export new data structure with clean data\n",
    "* delete unnecessary columns from each month data\n",
    "* then export new csv for each month after all collection columns have been cleaned in each month data"
   ]
  },
  {
   "cell_type": "code",
   "execution_count": 128,
   "metadata": {},
   "outputs": [],
   "source": [
    "ent_id = budgets_d.loc[budgets_d['budget_name'] == 'entertainment']._id[0]\n",
    "food_id = budgets_d.loc[budgets_d['budget_name'] == 'food']._id[1]\n",
    "main_id = budgets_d.loc[budgets_d['budget_name'] == 'maintenance']._id[2]\n",
    "phone_id = budgets_d.loc[budgets_d['budget_name'] == 'phone']._id[3]\n",
    "rent_id = budgets_d.loc[budgets_d['budget_name'] == 'rent']._id[4]\n",
    "self_id = budgets_d.loc[budgets_d['budget_name'] == 'selfcare']._id[5]\n",
    "tool_id = budgets_d.loc[budgets_d['budget_name'] == 'tools']._id[6]\n",
    "trans_id = budgets_d.loc[budgets_d['budget_name'] == 'transportation']._id[7]\n",
    "travel_id = budgets_d.loc[budgets_d['budget_name'] == 'travel']._id[8]\n",
    "util_id = budgets_d.loc[budgets_d['budget_name'] == 'utilities']._id[9]"
   ]
  },
  {
   "cell_type": "markdown",
   "metadata": {},
   "source": [
    "budget"
   ]
  },
  {
   "cell_type": "code",
   "execution_count": 129,
   "metadata": {},
   "outputs": [],
   "source": [
    "mar_d.loc[mar_d['budget'] == 'entertainment', ['budget_id']] = ent_id\n",
    "mar_d.loc[mar_d['budget'] == 'food', ['budget_id']] = food_id\n",
    "mar_d.loc[mar_d['budget'] == 'maintenance', ['budget_id']] = main_id\n",
    "mar_d.loc[mar_d['budget'] == 'phone', ['budget_id']] = phone_id\n",
    "mar_d.loc[mar_d['budget'] == 'rent', ['budget_id']] = rent_id\n",
    "mar_d.loc[mar_d['budget'] == 'selfcare', ['budget_id']] = self_id\n",
    "mar_d.loc[mar_d['budget'] == 'tools', ['budget_id']] = tool_id\n",
    "mar_d.loc[mar_d['budget'] == 'transportation', ['budget_id']] = trans_id\n",
    "mar_d.loc[mar_d['budget'] == 'travel', ['budget_id']] = travel_id\n",
    "mar_d.loc[mar_d['budget'] == 'utilities', ['budget_id']] = util_id"
   ]
  },
  {
   "cell_type": "code",
   "execution_count": 131,
   "metadata": {},
   "outputs": [],
   "source": [
    "apr_d.loc[apr_d['budget'] == 'entertainment', ['budget_id']] = ent_id\n",
    "apr_d.loc[apr_d['budget'] == 'food', ['budget_id']] = food_id\n",
    "apr_d.loc[apr_d['budget'] == 'maintenance', ['budget_id']] = main_id\n",
    "apr_d.loc[apr_d['budget'] == 'phone', ['budget_id']] = phone_id\n",
    "apr_d.loc[apr_d['budget'] == 'rent', ['budget_id']] = rent_id\n",
    "apr_d.loc[apr_d['budget'] == 'selfcare', ['budget_id']] = self_id\n",
    "apr_d.loc[apr_d['budget'] == 'tools', ['budget_id']] = tool_id\n",
    "apr_d.loc[apr_d['budget'] == 'transportation', ['budget_id']] = trans_id\n",
    "apr_d.loc[apr_d['budget'] == 'travel', ['budget_id']] = travel_id\n",
    "apr_d.loc[apr_d['budget'] == 'utilities', ['budget_id']] = util_id"
   ]
  },
  {
   "cell_type": "code",
   "execution_count": 133,
   "metadata": {},
   "outputs": [],
   "source": [
    "may_d.loc[may_d['budget'] == 'entertainment', ['budget_id']] = ent_id\n",
    "may_d.loc[may_d['budget'] == 'food', ['budget_id']] = food_id\n",
    "may_d.loc[may_d['budget'] == 'maintenance', ['budget_id']] = main_id\n",
    "may_d.loc[may_d['budget'] == 'phone', ['budget_id']] = phone_id\n",
    "may_d.loc[may_d['budget'] == 'rent', ['budget_id']] = rent_id\n",
    "may_d.loc[may_d['budget'] == 'selfcare', ['budget_id']] = self_id\n",
    "may_d.loc[may_d['budget'] == 'tools', ['budget_id']] = tool_id\n",
    "may_d.loc[may_d['budget'] == 'transportation', ['budget_id']] = trans_id\n",
    "may_d.loc[may_d['budget'] == 'travel', ['budget_id']] = travel_id\n",
    "may_d.loc[may_d['budget'] == 'utilities', ['budget_id']] = util_id"
   ]
  },
  {
   "cell_type": "code",
   "execution_count": 138,
   "metadata": {},
   "outputs": [],
   "source": [
    "june_d.loc[june_d['budget'] == 'ent', ['budget_id']] = ent_id\n",
    "june_d.loc[june_d['budget'] == 'food', ['budget_id']] = food_id\n",
    "june_d.loc[june_d['budget'] == 'maintenance', ['budget_id']] = main_id\n",
    "june_d.loc[june_d['budget'] == 'phone', ['budget_id']] = phone_id\n",
    "june_d.loc[june_d['budget'] == 'rent', ['budget_id']] = rent_id\n",
    "june_d.loc[june_d['budget'] == 'selfcare', ['budget_id']] = self_id\n",
    "june_d.loc[june_d['budget'] == 'tools', ['budget_id']] = tool_id\n",
    "june_d.loc[june_d['budget'] == 'transportation', ['budget_id']] = trans_id\n",
    "june_d.loc[june_d['budget'] == 'travel', ['budget_id']] = travel_id\n",
    "june_d.loc[june_d['budget'] == 'utilities', ['budget_id']] = util_id"
   ]
  },
  {
   "cell_type": "code",
   "execution_count": 140,
   "metadata": {},
   "outputs": [],
   "source": [
    "july_d.loc[july_d['budget'] == 'ent', ['budget_id']] = ent_id\n",
    "july_d.loc[july_d['budget'] == 'food', ['budget_id']] = food_id\n",
    "july_d.loc[july_d['budget'] == 'maintenance', ['budget_id']] = main_id\n",
    "july_d.loc[july_d['budget'] == 'phone', ['budget_id']] = phone_id\n",
    "july_d.loc[july_d['budget'] == 'rent', ['budget_id']] = rent_id\n",
    "july_d.loc[july_d['budget'] == 'selfcare', ['budget_id']] = self_id\n",
    "july_d.loc[july_d['budget'] == 'tools', ['budget_id']] = tool_id\n",
    "july_d.loc[july_d['budget'] == 'transportation', ['budget_id']] = trans_id\n",
    "july_d.loc[july_d['budget'] == 'travel', ['budget_id']] = travel_id\n",
    "july_d.loc[july_d['budget'] == 'utilities', ['budget_id']] = util_id"
   ]
  },
  {
   "cell_type": "code",
   "execution_count": 142,
   "metadata": {},
   "outputs": [],
   "source": [
    "aug_d.loc[aug_d['budget'] == 'ent', ['budget_id']] = ent_id\n",
    "aug_d.loc[aug_d['budget'] == 'food', ['budget_id']] = food_id\n",
    "aug_d.loc[aug_d['budget'] == 'maintenance', ['budget_id']] = main_id\n",
    "aug_d.loc[aug_d['budget'] == 'phone', ['budget_id']] = phone_id\n",
    "aug_d.loc[aug_d['budget'] == 'rent', ['budget_id']] = rent_id\n",
    "aug_d.loc[aug_d['budget'] == 'selfcare', ['budget_id']] = self_id\n",
    "aug_d.loc[aug_d['budget'] == 'tools', ['budget_id']] = tool_id\n",
    "aug_d.loc[aug_d['budget'] == 'transportation', ['budget_id']] = trans_id\n",
    "aug_d.loc[aug_d['budget'] == 'travel', ['budget_id']] = travel_id\n",
    "aug_d.loc[aug_d['budget'] == 'utilities', ['budget_id']] = util_id"
   ]
  },
  {
   "cell_type": "markdown",
   "metadata": {},
   "source": [
    "financial"
   ]
  },
  {
   "cell_type": "code",
   "execution_count": 176,
   "metadata": {},
   "outputs": [],
   "source": [
    "mar_d_bud = pd.read_csv(\"./march_clean.csv\")\n",
    "apr_d_bud = pd.read_csv(\"./apr_clean.csv\")\n",
    "may_d_bud = pd.read_csv(\"./may_clean.csv\")\n",
    "june_d_bud = pd.read_csv(\"./june_clean.csv\")\n",
    "july_d_bud = pd.read_csv(\"./july_clean.csv\")\n",
    "aug_d_bud = pd.read_csv(\"./aug_clean.csv\")"
   ]
  },
  {
   "cell_type": "code",
   "execution_count": 170,
   "metadata": {},
   "outputs": [],
   "source": [
    "biz_id = fin_accts_d.loc[fin_accts_d['account_name'] == 'Business Checking AZFCU']._id[0]\n",
    "cash_id = fin_accts_d.loc[fin_accts_d['account_name'] == 'cash']._id[1]\n",
    "cashapp_id = fin_accts_d.loc[fin_accts_d['account_name'] == 'cashapp_biz']._id[2]\n",
    "cc_id = fin_accts_d.loc[fin_accts_d['account_name'] == 'credit_card']._id[3]\n",
    "cc_m_id = fin_accts_d.loc[fin_accts_d['account_name'] == 'credit_card_mamma']._id[4]\n",
    "gc_id = fin_accts_d.loc[fin_accts_d['account_name'] == 'gift_card']._id[5]\n",
    "pp_id = fin_accts_d.loc[fin_accts_d['account_name'] == 'PayPal']._id[6]\n",
    "ppcc_id = fin_accts_d.loc[fin_accts_d['account_name'] == 'PayPal Credit']._id[7]\n",
    "pers_id = fin_accts_d.loc[fin_accts_d['account_name'] == 'Personal Checking AZFCU']._id[8]\n",
    "spec_id = fin_accts_d.loc[fin_accts_d['account_name'] == 'Special Savings AZFCU']._id[9]"
   ]
  },
  {
   "cell_type": "code",
   "execution_count": 177,
   "metadata": {},
   "outputs": [],
   "source": [
    "mar_d_bud.loc[mar_d_bud['fin_acc'] == 'biz', ['fin_acc_id']] = biz_id\n",
    "mar_d_bud.loc[mar_d_bud['fin_acc'] == 'cash', ['fin_acc_id']] = cash_id\n",
    "mar_d_bud.loc[mar_d_bud['fin_acc'] == 'cashapp/biz', ['fin_acc_id']] = cashapp_id\n",
    "mar_d_bud.loc[mar_d_bud['fin_acc'] == 'credit_card', ['fin_acc_id']] = cc_id\n",
    "mar_d_bud.loc[mar_d_bud['fin_acc'] == 'credit_card_mamma', ['fin_acc_id']] = cc_m_id\n",
    "mar_d_bud.loc[mar_d_bud['fin_acc'] == 'mamma_cc', ['fin_acc_id']] = cc_m_id\n",
    "mar_d_bud.loc[mar_d_bud['fin_acc'] == 'gift_card', ['fin_acc_id']] = gc_id\n",
    "mar_d_bud.loc[mar_d_bud['fin_acc'] == 'paypal', ['fin_acc_id']] = pp_id\n",
    "mar_d_bud.loc[mar_d_bud['fin_acc'] == 'PayPal Credit', ['fin_acc_id']] = ppcc_id\n",
    "mar_d_bud.loc[mar_d_bud['fin_acc'] == 'personal_account', ['fin_acc_id']] = pers_id\n",
    "mar_d_bud.loc[mar_d_bud['fin_acc'] == 'personal', ['fin_acc_id']] = pers_id\n",
    "mar_d_bud.loc[mar_d_bud['fin_acc'] == 'Special Savings AZFCU', ['fin_acc_id']] = spec_id\n",
    "\n",
    "apr_d_bud.loc[apr_d_bud['fin_acc'] == 'biz', ['fin_acc_id']] = biz_id\n",
    "apr_d_bud.loc[apr_d_bud['fin_acc'] == 'cash', ['fin_acc_id']] = cash_id\n",
    "apr_d_bud.loc[apr_d_bud['fin_acc'] == 'cashapp/biz', ['fin_acc_id']] = cashapp_id\n",
    "apr_d_bud.loc[apr_d_bud['fin_acc'] == 'credit_card', ['fin_acc_id']] = cc_id\n",
    "apr_d_bud.loc[apr_d_bud['fin_acc'] == 'credit_card_mamma', ['fin_acc_id']] = cc_m_id\n",
    "apr_d_bud.loc[apr_d_bud['fin_acc'] == 'mamma_cc', ['fin_acc_id']] = cc_m_id\n",
    "apr_d_bud.loc[apr_d_bud['fin_acc'] == 'gift_card', ['fin_acc_id']] = gc_id\n",
    "apr_d_bud.loc[apr_d_bud['fin_acc'] == 'paypal', ['fin_acc_id']] = pp_id\n",
    "apr_d_bud.loc[apr_d_bud['fin_acc'] == 'PayPal Credit', ['fin_acc_id']] = ppcc_id\n",
    "apr_d_bud.loc[apr_d_bud['fin_acc'] == 'personal_account', ['fin_acc_id']] = pers_id\n",
    "apr_d_bud.loc[apr_d_bud['fin_acc'] == 'personal', ['fin_acc_id']] = pers_id\n",
    "apr_d_bud.loc[apr_d_bud['fin_acc'] == 'Special Savings AZFCU', ['fin_acc_id']] = spec_id\n",
    "\n",
    "may_d_bud.loc[may_d_bud['fin_acc'] == 'biz', ['fin_acc_id']] = biz_id\n",
    "may_d_bud.loc[may_d_bud['fin_acc'] == 'cash', ['fin_acc_id']] = cash_id\n",
    "may_d_bud.loc[may_d_bud['fin_acc'] == 'cashapp/biz', ['fin_acc_id']] = cashapp_id\n",
    "may_d_bud.loc[may_d_bud['fin_acc'] == 'credit_card', ['fin_acc_id']] = cc_id\n",
    "may_d_bud.loc[may_d_bud['fin_acc'] == 'credit_card_mamma', ['fin_acc_id']] = cc_m_id\n",
    "may_d_bud.loc[may_d_bud['fin_acc'] == 'mamma_cc', ['fin_acc_id']] = cc_m_id\n",
    "may_d_bud.loc[may_d_bud['fin_acc'] == 'gift_card', ['fin_acc_id']] = gc_id\n",
    "may_d_bud.loc[may_d_bud['fin_acc'] == 'paypal', ['fin_acc_id']] = pp_id\n",
    "may_d_bud.loc[may_d_bud['fin_acc'] == 'PayPal Credit', ['fin_acc_id']] = ppcc_id\n",
    "may_d_bud.loc[may_d_bud['fin_acc'] == 'personal_account', ['fin_acc_id']] = pers_id\n",
    "may_d_bud.loc[may_d_bud['fin_acc'] == 'personal', ['fin_acc_id']] = pers_id\n",
    "may_d_bud.loc[may_d_bud['fin_acc'] == 'Special Savings AZFCU', ['fin_acc_id']] = spec_id\n",
    "\n",
    "june_d_bud.loc[june_d_bud['fin_acc'] == 'biz', ['fin_acc_id']] = biz_id\n",
    "june_d_bud.loc[june_d_bud['fin_acc'] == 'cash', ['fin_acc_id']] = cash_id\n",
    "june_d_bud.loc[june_d_bud['fin_acc'] == 'cashapp/biz', ['fin_acc_id']] = cashapp_id\n",
    "june_d_bud.loc[june_d_bud['fin_acc'] == 'credit_card', ['fin_acc_id']] = cc_id\n",
    "june_d_bud.loc[june_d_bud['fin_acc'] == 'credit_card_mamma', ['fin_acc_id']] = cc_m_id\n",
    "june_d_bud.loc[june_d_bud['fin_acc'] == 'mamma_cc', ['fin_acc_id']] = cc_m_id\n",
    "june_d_bud.loc[june_d_bud['fin_acc'] == 'gift_card', ['fin_acc_id']] = gc_id\n",
    "june_d_bud.loc[june_d_bud['fin_acc'] == 'paypal', ['fin_acc_id']] = pp_id\n",
    "june_d_bud.loc[june_d_bud['fin_acc'] == 'PayPal Credit', ['fin_acc_id']] = ppcc_id\n",
    "june_d_bud.loc[june_d_bud['fin_acc'] == 'personal_account', ['fin_acc_id']] = pers_id\n",
    "june_d_bud.loc[june_d_bud['fin_acc'] == 'personal', ['fin_acc_id']] = pers_id\n",
    "june_d_bud.loc[june_d_bud['fin_acc'] == 'Special Savings AZFCU', ['fin_acc_id']] = spec_id\n",
    "\n",
    "july_d_bud.loc[july_d_bud['fin_acc'] == 'biz', ['fin_acc_id']] = biz_id\n",
    "july_d_bud.loc[july_d_bud['fin_acc'] == 'cash', ['fin_acc_id']] = cash_id\n",
    "july_d_bud.loc[july_d_bud['fin_acc'] == 'cashapp/biz', ['fin_acc_id']] = cashapp_id\n",
    "july_d_bud.loc[july_d_bud['fin_acc'] == 'credit_card', ['fin_acc_id']] = cc_id\n",
    "july_d_bud.loc[july_d_bud['fin_acc'] == 'credit_card_mamma', ['fin_acc_id']] = cc_m_id\n",
    "july_d_bud.loc[july_d_bud['fin_acc'] == 'mamma_cc', ['fin_acc_id']] = cc_m_id\n",
    "july_d_bud.loc[july_d_bud['fin_acc'] == 'gift_card', ['fin_acc_id']] = gc_id\n",
    "july_d_bud.loc[july_d_bud['fin_acc'] == 'paypal', ['fin_acc_id']] = pp_id\n",
    "july_d_bud.loc[july_d_bud['fin_acc'] == 'PayPal Credit', ['fin_acc_id']] = ppcc_id\n",
    "july_d_bud.loc[july_d_bud['fin_acc'] == 'personal_account', ['fin_acc_id']] = pers_id\n",
    "july_d_bud.loc[july_d_bud['fin_acc'] == 'personal', ['fin_acc_id']] = pers_id\n",
    "july_d_bud.loc[july_d_bud['fin_acc'] == 'Special Savings AZFCU', ['fin_acc_id']] = spec_id\n",
    "\n",
    "aug_d_bud.loc[aug_d_bud['fin_acc'] == 'biz', ['fin_acc_id']] = biz_id\n",
    "aug_d_bud.loc[aug_d_bud['fin_acc'] == 'cash', ['fin_acc_id']] = cash_id\n",
    "aug_d_bud.loc[aug_d_bud['fin_acc'] == 'cashapp/biz', ['fin_acc_id']] = cashapp_id\n",
    "aug_d_bud.loc[aug_d_bud['fin_acc'] == 'credit_card', ['fin_acc_id']] = cc_id\n",
    "aug_d_bud.loc[aug_d_bud['fin_acc'] == 'credit_card_mamma', ['fin_acc_id']] = cc_m_id\n",
    "aug_d_bud.loc[aug_d_bud['fin_acc'] == 'mamma_cc', ['fin_acc_id']] = cc_m_id\n",
    "aug_d_bud.loc[aug_d_bud['fin_acc'] == 'gift_card', ['fin_acc_id']] = gc_id\n",
    "aug_d_bud.loc[aug_d_bud['fin_acc'] == 'paypal', ['fin_acc_id']] = pp_id\n",
    "aug_d_bud.loc[aug_d_bud['fin_acc'] == 'PayPal Credit', ['fin_acc_id']] = ppcc_id\n",
    "aug_d_bud.loc[aug_d_bud['fin_acc'] == 'personal_account', ['fin_acc_id']] = pers_id\n",
    "aug_d_bud.loc[aug_d_bud['fin_acc'] == 'personal', ['fin_acc_id']] = pers_id\n",
    "aug_d_bud.loc[aug_d_bud['fin_acc'] == 'Special Savings AZFCU', ['fin_acc_id']] = spec_id"
   ]
  },
  {
   "cell_type": "code",
   "execution_count": null,
   "metadata": {},
   "outputs": [],
   "source": [
    "Currency"
   ]
  },
  {
   "cell_type": "code",
   "execution_count": 180,
   "metadata": {},
   "outputs": [],
   "source": [
    "mar_d_bud.loc[mar_d_bud['currency'] == 'USD', ['currency_id']] = \"5f381f30f815d062fb9da8f1\"\n",
    "apr_d_bud.loc[apr_d_bud['currency'] == 'USD', ['currency_id']] = \"5f381f30f815d062fb9da8f1\"\n",
    "may_d_bud.loc[may_d_bud['currency'] == 'USD', ['currency_id']] = \"5f381f30f815d062fb9da8f1\"\n",
    "june_d_bud.loc[june_d_bud['currency'] == 'USD', ['currency_id']] = \"5f381f30f815d062fb9da8f1\"\n",
    "july_d_bud.loc[july_d_bud['currency'] == 'USD', ['currency_id']] = \"5f381f30f815d062fb9da8f1\"\n",
    "aug_d_bud.loc[aug_d_bud['currency'] == 'USD', ['currency_id']] = \"5f381f30f815d062fb9da8f1\""
   ]
  },
  {
   "cell_type": "markdown",
   "metadata": {},
   "source": [
    "Vendor"
   ]
  },
  {
   "cell_type": "markdown",
   "metadata": {},
   "source": [
    "plan to set vendor_id for each tranx in each month\n",
    "* combine all month df into one df called tranx\n",
    "* trim vendors_d.vendor_name\n",
    "* create a dictionary from vendors_d called vendors_dict\n",
    "    * dictionary keys will be vendors_d.vendor_name\n",
    "    * dictionary values will be vendors_d._id\n",
    "* for each row:\n",
    "    * when tranx.vendor == vendors_d.vendor_name\n",
    "        * set tranx.vendor_id = vendors_d._id"
   ]
  },
  {
   "cell_type": "code",
   "execution_count": 226,
   "metadata": {},
   "outputs": [
    {
     "data": {
      "text/html": [
       "<div>\n",
       "<style scoped>\n",
       "    .dataframe tbody tr th:only-of-type {\n",
       "        vertical-align: middle;\n",
       "    }\n",
       "\n",
       "    .dataframe tbody tr th {\n",
       "        vertical-align: top;\n",
       "    }\n",
       "\n",
       "    .dataframe thead th {\n",
       "        text-align: right;\n",
       "    }\n",
       "</style>\n",
       "<table border=\"1\" class=\"dataframe\">\n",
       "  <thead>\n",
       "    <tr style=\"text-align: right;\">\n",
       "      <th></th>\n",
       "      <th>_id</th>\n",
       "      <th>vendor_name</th>\n",
       "    </tr>\n",
       "  </thead>\n",
       "  <tbody>\n",
       "    <tr>\n",
       "      <th>75</th>\n",
       "      <td>5f3e18f8d95d06627dc8e986</td>\n",
       "      <td>Namecheap</td>\n",
       "    </tr>\n",
       "  </tbody>\n",
       "</table>\n",
       "</div>"
      ],
      "text/plain": [
       "                         _id vendor_name\n",
       "75  5f3e18f8d95d06627dc8e986   Namecheap"
      ]
     },
     "execution_count": 226,
     "metadata": {},
     "output_type": "execute_result"
    }
   ],
   "source": [
    "vendors_d.loc[vendors_d['vendor_name'] == 'Namecheap']"
   ]
  },
  {
   "cell_type": "code",
   "execution_count": 239,
   "metadata": {},
   "outputs": [],
   "source": [
    "# create dictionary\n",
    "# add data[k:v]\n",
    "vendors_dict = {}\n",
    "for k,v in vendors_d.iterrows():\n",
    "    t = v.vendor_name.strip()\n",
    "    vendors_dict[t] = v._id\n",
    "#     print(k)\n",
    "#     print(v._id)\n",
    "# vendors_dict"
   ]
  },
  {
   "cell_type": "code",
   "execution_count": 199,
   "metadata": {},
   "outputs": [],
   "source": [
    "# concatenate dataframes for months\n",
    "tranx = pd.concat([mar_d_bud,apr_d_bud,may_d_bud,june_d_bud,july_d_bud,aug_d_bud])\n",
    "# tranx"
   ]
  },
  {
   "cell_type": "code",
   "execution_count": 256,
   "metadata": {},
   "outputs": [],
   "source": [
    "tranx_namecheap = pd.read_csv(\"./month_data/tranx_namecheap_costco.csv\")\n",
    "# tranx_namecheap"
   ]
  },
  {
   "cell_type": "code",
   "execution_count": 257,
   "metadata": {},
   "outputs": [],
   "source": [
    "for k,v in tranx_namecheap.iterrows():\n",
    "#     print(v.vendor)\n",
    "#     print(vendors_dict[v.vendor])\n",
    "    tranx_namecheap.loc[tranx_namecheap['vendor'] == vendors_dict[v.vendor], ['vendor_id']] = vendors_dict[v.vendor]  "
   ]
  },
  {
   "cell_type": "code",
   "execution_count": 215,
   "metadata": {},
   "outputs": [
    {
     "ename": "KeyError",
     "evalue": "'NameCheap'",
     "output_type": "error",
     "traceback": [
      "\u001b[0;31m---------------------------------------------------------------------------\u001b[0m",
      "\u001b[0;31mKeyError\u001b[0m                                  Traceback (most recent call last)",
      "\u001b[0;32m<ipython-input-215-263f7934ac27>\u001b[0m in \u001b[0;36m<module>\u001b[0;34m\u001b[0m\n\u001b[0;32m----> 1\u001b[0;31m \u001b[0mvendors_dict\u001b[0m\u001b[0;34m[\u001b[0m\u001b[0;34m'NameCheap'\u001b[0m\u001b[0;34m]\u001b[0m\u001b[0;34m\u001b[0m\u001b[0;34m\u001b[0m\u001b[0m\n\u001b[0m",
      "\u001b[0;31mKeyError\u001b[0m: 'NameCheap'"
     ]
    }
   ],
   "source": []
  },
  {
   "cell_type": "code",
   "execution_count": 259,
   "metadata": {},
   "outputs": [],
   "source": [
    "tranx_namecheap.to_csv(\"tranx_clean.csv\")\n",
    "# tranx.to_csv(\"tranx.csv\")"
   ]
  },
  {
   "cell_type": "code",
   "execution_count": 211,
   "metadata": {},
   "outputs": [],
   "source": [
    "# tranx.to_csv(\"tranx.csv\")"
   ]
  },
  {
   "cell_type": "code",
   "execution_count": null,
   "metadata": {},
   "outputs": [],
   "source": []
  }
 ],
 "metadata": {
  "kernelspec": {
   "display_name": "Python 3",
   "language": "python",
   "name": "python3"
  },
  "language_info": {
   "codemirror_mode": {
    "name": "ipython",
    "version": 3
   },
   "file_extension": ".py",
   "mimetype": "text/x-python",
   "name": "python",
   "nbconvert_exporter": "python",
   "pygments_lexer": "ipython3",
   "version": "3.7.6"
  }
 },
 "nbformat": 4,
 "nbformat_minor": 4
}
